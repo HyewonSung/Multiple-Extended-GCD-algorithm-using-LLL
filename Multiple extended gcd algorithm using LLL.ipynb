{
 "cells": [
  {
   "cell_type": "markdown",
   "metadata": {},
   "source": [
    "# Multiple extended gcd algorithm using LLL\n",
    "\n",
    "## Date : 2021.04.21\n",
    "## Copyright by HyewonSung"
   ]
  },
  {
   "cell_type": "code",
   "execution_count": 71,
   "metadata": {},
   "outputs": [],
   "source": [
    "import sys\n",
    "import math\n",
    "import numpy as np\n",
    "from numpy import linalg as la\n",
    "\n",
    "from fractions import Fraction\n",
    "from typing import Sequence\n",
    "from typing import List\n",
    "from functools import reduce\n"
   ]
  },
  {
   "cell_type": "markdown",
   "metadata": {},
   "source": [
    "### input vector w"
   ]
  },
  {
   "cell_type": "code",
   "execution_count": 100,
   "metadata": {},
   "outputs": [
    {
     "name": "stdout",
     "output_type": "stream",
     "text": [
      "input vector w :  [  13  143  156 1300   39   26  117 1170]\n"
     ]
    }
   ],
   "source": [
    "w = np.array([13, 143, 156, 1300, 39, 26, 117, 1170])\n",
    "alpha = 3/4 #LLL alpha\n",
    "\n",
    "print(\"input vector w : \", w)\n"
   ]
  },
  {
   "cell_type": "markdown",
   "metadata": {},
   "source": [
    "### Defining Vector Class, GSO process, LLL reduction "
   ]
  },
  {
   "cell_type": "code",
   "execution_count": 101,
   "metadata": {},
   "outputs": [],
   "source": [
    "#Define class vector\n",
    "class Vector(list):\n",
    "            \n",
    "    def sdot(self) :  \n",
    "       \n",
    "        return self.dot(self)\n",
    "    \n",
    "    def dot(self, rhs: \"Vector\") :\n",
    "        rhs = Vector(rhs)\n",
    "        assert len(self) == len(rhs)\n",
    "        return sum(map(lambda x: x[0] * x[1], zip(self, rhs)))\n",
    "    \n",
    "    def proj_coff(self, rhs: \"Vector\") :\n",
    "        rhs = Vector(rhs)\n",
    "        assert len(self) == len(rhs)\n",
    "        return self.dot(rhs) / self.sdot()\n",
    "    \n",
    "    def proj(self, rhs: \"Vector\") -> \"Vector\":\n",
    "        rhs = Vector(rhs)\n",
    "        assert len(self) == len(rhs)\n",
    "        return self.proj_coff(rhs) * self\n",
    "    \n",
    "    def __sub__(self, rhs: \"Vector\") -> \"Vector\":\n",
    "        rhs = Vector(rhs)\n",
    "        assert len(self) == len(rhs)\n",
    "        return Vector(x - y for x, y in zip(self, rhs))\n",
    "    \n",
    "    def __mul__(self, rhs) -> \"Vector\":\n",
    "        return Vector(x * rhs for x in self)\n",
    "    \n",
    "    def __rmul__(self, lhs) -> \"Vector\":\n",
    "        return Vector(x * lhs for x in self)\n",
    "    \n",
    "    def __repr__(self) -> str:\n",
    "        return \"[{}]\".format(\", \".join(str(x) for x in self))\n",
    "\n",
    "# GSO\n",
    "def gramschmidt(v: Sequence[Vector]) -> Sequence[Vector]:\n",
    "    u: List[Vector] = []\n",
    "    for vi in v:\n",
    "        ui = Vector(vi)\n",
    "        for uj in u:\n",
    "            ui = ui - uj.proj(vi)\n",
    "        if any(ui):\n",
    "            u.append(ui)\n",
    "    return u\n",
    "\n",
    "\n",
    "def dot(a,b):\n",
    "    a=np.array(a)\n",
    "    b=np.array(b)\n",
    "    u=a*b\n",
    "    C=u[0]\n",
    "    i=1\n",
    "    while i<len(a):\n",
    "        C=C+u[i]\n",
    "        i=i+1\n",
    "    return C\n",
    "\n",
    "def mult(v,B):\n",
    "    B=np.matrix(B)\n",
    "    v=np.array(v)\n",
    "    C=v*(B.T)\n",
    "    return sum(map(lambda x: x , C))\n",
    "\n",
    "# LLL\n",
    "def LLLreduction(basis: Sequence[Sequence[int]], delta: float):\n",
    "    \n",
    "    n = len(basis)\n",
    "    basis = list(map(Vector, basis))\n",
    "    ortho = gramschmidt(basis)\n",
    "    def mu(i: int, j: int) :\n",
    "        return ortho[j].proj_coff(basis[i])\n",
    "    k = 1\n",
    "    while k < n:\n",
    "        for j in range(k - 1, -1, -1):\n",
    "            mu_kj = mu(k, j)\n",
    "            if abs(mu_kj) > 0.5:\n",
    "                basis[k] = basis[k] - basis[j] * round(mu_kj)\n",
    "                ortho = gramschmidt(basis)\n",
    "        if ortho[k].dot(ortho[k])>= (delta-((mu(k, k-1))**2))*(ortho[k-1].dot(ortho[k-1])):\n",
    "            k += 1\n",
    "            #print(\"Lovasz holds\")\n",
    "        else:\n",
    "            #print(\"Lovasz fails\")\n",
    "            basis[k], basis[k - 1] = basis[k - 1], basis[k]\n",
    "            ortho = gramschmidt(basis)\n",
    "            k = max(k - 1, 1)\n",
    "    return basis"
   ]
  },
  {
   "cell_type": "markdown",
   "metadata": {},
   "source": [
    "### Setting integer r so thar r>2^((n-1)/2) * length of w"
   ]
  },
  {
   "cell_type": "code",
   "execution_count": 102,
   "metadata": {},
   "outputs": [
    {
     "name": "stdout",
     "output_type": "stream",
     "text": [
      "1766.2785737249942\n",
      "19984\n"
     ]
    }
   ],
   "source": [
    "#Set an integer r \n",
    "\n",
    "n = len(w)\n",
    "wnorm = np.linalg.norm(w)\n",
    "r = math.ceil((2**((n-1)/2)*wnorm))\n",
    "\n",
    "#print(wnorm)\n",
    "#print(r)\n"
   ]
  },
  {
   "cell_type": "markdown",
   "metadata": {},
   "source": [
    "### Setting a new basis matrix B_nx(n+1) = [I_nxn | r*w]"
   ]
  },
  {
   "cell_type": "code",
   "execution_count": 109,
   "metadata": {},
   "outputs": [
    {
     "name": "stdout",
     "output_type": "stream",
     "text": [
      "Basis matrix : \n",
      " [[1.000000e+00 0.000000e+00 0.000000e+00 0.000000e+00 0.000000e+00\n",
      "  0.000000e+00 0.000000e+00 0.000000e+00 2.597920e+05]\n",
      " [0.000000e+00 1.000000e+00 0.000000e+00 0.000000e+00 0.000000e+00\n",
      "  0.000000e+00 0.000000e+00 0.000000e+00 2.857712e+06]\n",
      " [0.000000e+00 0.000000e+00 1.000000e+00 0.000000e+00 0.000000e+00\n",
      "  0.000000e+00 0.000000e+00 0.000000e+00 3.117504e+06]\n",
      " [0.000000e+00 0.000000e+00 0.000000e+00 1.000000e+00 0.000000e+00\n",
      "  0.000000e+00 0.000000e+00 0.000000e+00 2.597920e+07]\n",
      " [0.000000e+00 0.000000e+00 0.000000e+00 0.000000e+00 1.000000e+00\n",
      "  0.000000e+00 0.000000e+00 0.000000e+00 7.793760e+05]\n",
      " [0.000000e+00 0.000000e+00 0.000000e+00 0.000000e+00 0.000000e+00\n",
      "  1.000000e+00 0.000000e+00 0.000000e+00 5.195840e+05]\n",
      " [0.000000e+00 0.000000e+00 0.000000e+00 0.000000e+00 0.000000e+00\n",
      "  0.000000e+00 1.000000e+00 0.000000e+00 2.338128e+06]\n",
      " [0.000000e+00 0.000000e+00 0.000000e+00 0.000000e+00 0.000000e+00\n",
      "  0.000000e+00 0.000000e+00 1.000000e+00 2.338128e+07]]\n"
     ]
    }
   ],
   "source": [
    "#Set a basis matrix B_nx(n+1)\n",
    "\n",
    "identity = np.eye(n)\n",
    "rw = r*w\n",
    "\n",
    "bmatrix = np.column_stack((identity, rw))\n",
    "print(\"Basis matrix : \\n\",bmatrix)"
   ]
  },
  {
   "cell_type": "markdown",
   "metadata": {},
   "source": [
    "### Compute X matrix by using LLL algorithm. (i.e X = LLL(B))"
   ]
  },
  {
   "cell_type": "code",
   "execution_count": 104,
   "metadata": {},
   "outputs": [
    {
     "name": "stdout",
     "output_type": "stream",
     "text": [
      "LLL reduced basis : \n",
      " [[-1.00000e+00 -1.00000e+00  1.00000e+00  0.00000e+00  0.00000e+00\n",
      "   0.00000e+00  0.00000e+00  0.00000e+00  0.00000e+00]\n",
      " [ 1.00000e+00  0.00000e+00  0.00000e+00  0.00000e+00 -1.00000e+00\n",
      "   1.00000e+00  0.00000e+00  0.00000e+00  0.00000e+00]\n",
      " [ 0.00000e+00 -1.00000e+00  0.00000e+00  0.00000e+00  0.00000e+00\n",
      "   1.00000e+00  1.00000e+00  0.00000e+00  0.00000e+00]\n",
      " [-1.00000e+00  1.00000e+00 -1.00000e+00  0.00000e+00  0.00000e+00\n",
      "   1.00000e+00  0.00000e+00  0.00000e+00  0.00000e+00]\n",
      " [ 0.00000e+00  0.00000e+00  1.00000e+00 -1.00000e+00  0.00000e+00\n",
      "  -1.00000e+00  0.00000e+00  1.00000e+00  0.00000e+00]\n",
      " [-1.00000e+00  0.00000e+00  0.00000e+00  0.00000e+00 -2.00000e+00\n",
      "  -1.00000e+00  1.00000e+00  0.00000e+00  0.00000e+00]\n",
      " [ 0.00000e+00 -3.00000e+00 -2.00000e+00 -1.00000e+00 -1.00000e+00\n",
      "  -1.00000e+00 -2.00000e+00  2.00000e+00  0.00000e+00]\n",
      " [ 1.00000e+00  0.00000e+00  0.00000e+00  0.00000e+00  0.00000e+00\n",
      "   0.00000e+00  0.00000e+00  0.00000e+00  2.59792e+05]]\n"
     ]
    }
   ],
   "source": [
    "# Running LLL algorithm with B matrix\n",
    "\n",
    "X=np.array(LLLreduction(bmatrix, 0.75))\n",
    "print(\"LLL reduced basis : \\n\", X)"
   ]
  },
  {
   "cell_type": "markdown",
   "metadata": {},
   "source": [
    "### Output d (gcd value of elements of vector w) and x vector "
   ]
  },
  {
   "cell_type": "code",
   "execution_count": 105,
   "metadata": {},
   "outputs": [
    {
     "name": "stdout",
     "output_type": "stream",
     "text": [
      "gcd of d1, ..., dn (d_i are elemts of input w vector) :  13.0\n",
      "outputx vector :  [1. 0. 0. 0. 0. 0. 0. 0.]\n",
      "inner product with w and outputx :  13.0\n"
     ]
    }
   ],
   "source": [
    "# main\n",
    "\n",
    "#Output d = gcd(d1, ..., dn) where w = (d1, ..., dn)\n",
    "d = X[n-1][n] / r\n",
    "print(\"gcd of d1, ..., dn (d_i are elemts of input w vector) : \",d)\n",
    "\n",
    "#Output (x1, ..., xn) in Z^n such that x1d1 + x2d2 + ... + xndn = d\n",
    "outputx = X[n-1][:n]\n",
    "print(\"outputx vector : \", outputx)\n",
    "\n",
    "#check output d with x\n",
    "print(\"inner product with w and outputx : \", dot(w,outputx))"
   ]
  },
  {
   "cell_type": "code",
   "execution_count": null,
   "metadata": {},
   "outputs": [],
   "source": []
  },
  {
   "cell_type": "code",
   "execution_count": null,
   "metadata": {},
   "outputs": [],
   "source": []
  }
 ],
 "metadata": {
  "kernelspec": {
   "display_name": "Python 3",
   "language": "python",
   "name": "python3"
  },
  "language_info": {
   "codemirror_mode": {
    "name": "ipython",
    "version": 3
   },
   "file_extension": ".py",
   "mimetype": "text/x-python",
   "name": "python",
   "nbconvert_exporter": "python",
   "pygments_lexer": "ipython3",
   "version": "3.7.6"
  }
 },
 "nbformat": 4,
 "nbformat_minor": 4
}
